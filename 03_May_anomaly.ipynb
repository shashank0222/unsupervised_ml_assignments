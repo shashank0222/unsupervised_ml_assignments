{
 "cells": [
  {
   "cell_type": "markdown",
   "id": "e1ebe99e-2d63-4f7e-a23b-6716bf711fa3",
   "metadata": {},
   "source": [
    "Q1. What is the role of feature selection in anomaly detection?"
   ]
  },
  {
   "cell_type": "markdown",
   "id": "17ff08ba-cd71-407a-8025-7d1cc18ef768",
   "metadata": {},
   "source": [
    "Solution :"
   ]
  },
  {
   "cell_type": "markdown",
   "id": "886ef56a-cf5f-488a-910e-16ce3227188d",
   "metadata": {},
   "source": [
    "Feature selection is an important step in anomaly detection. It plays a significant role in improving the performance of anomaly detection systems by optimizing their classification accuracy and running time. Anomaly detection employs a great number of features that require much time. Therefore, the feature selection approach affects the time needed to investigate the traffic behavior and improve the accuracy level."
   ]
  },
  {
   "cell_type": "code",
   "execution_count": null,
   "id": "6334e4fe-5a27-411a-a89d-d686495acdfa",
   "metadata": {},
   "outputs": [],
   "source": []
  },
  {
   "cell_type": "code",
   "execution_count": null,
   "id": "69032f48-f22b-4566-8dcc-bdba29dcc588",
   "metadata": {},
   "outputs": [],
   "source": []
  },
  {
   "cell_type": "markdown",
   "id": "e2ca1b45-1e1f-4bd1-835d-04399e4dacc1",
   "metadata": {},
   "source": [
    "Q2. What are some common evaluation metrics for anomaly detection algorithms and how are they\n",
    "computed?"
   ]
  },
  {
   "cell_type": "markdown",
   "id": "e330fb75-d9ff-4e00-b1cc-08addfe2cc88",
   "metadata": {},
   "source": [
    "Solution :"
   ]
  },
  {
   "cell_type": "markdown",
   "id": "0a12efc2-c795-4320-8d05-54644ebd6802",
   "metadata": {},
   "source": [
    "The most common metrics for anomaly detection are the classical precision and recall, computed by comparing the predicted and the ground truth outputs for each sample. Other performance metrics for anomaly detection models are mainly based on Boolean anomaly/expected labels assigned to a given data point such as Precision, Recall, F-score, Accuracy and AUC."
   ]
  },
  {
   "cell_type": "code",
   "execution_count": null,
   "id": "6b610355-1cb7-4450-8c66-2ff730ab7bf3",
   "metadata": {},
   "outputs": [],
   "source": []
  },
  {
   "cell_type": "code",
   "execution_count": null,
   "id": "a3e8d168-7cb8-4996-9b6d-4e575399b171",
   "metadata": {},
   "outputs": [],
   "source": []
  },
  {
   "cell_type": "markdown",
   "id": "c508c551-01df-4030-b053-a34d89ef5d53",
   "metadata": {},
   "source": [
    "Q3. What is DBSCAN and how does it work for clustering?"
   ]
  },
  {
   "cell_type": "markdown",
   "id": "c7c7cc64-7c25-4976-89b5-fce55f518cce",
   "metadata": {},
   "source": [
    "Solution :"
   ]
  },
  {
   "cell_type": "markdown",
   "id": "4dbd0258-4245-46ea-85f5-d303677d0310",
   "metadata": {},
   "source": [
    "DBSCAN stands for Density Based Spatial Clustering of Application with Noise. It is a density based clustering algorithm that works on the assumption that clusters are dense regions in space separated by regions of lower density. The algorithm groups 'densely grouped' data points into a single cluster and can identify clusters of arbitrary shape in spatial databases with noise.\n",
    "\n",
    "The key idea behind DBSCAN is that for each point of a cluster, the neighborhood of a given radius has to contain at least a minimum number of points. This means that clusters are formed by expanding regions with sufficiently high density. The algorithm has two main parameters : eps,which defines the neighborhood around a data point and MinPts , which is the minimum number of neighbors within eps radius for a point to be considered as a core point.\n",
    "\n",
    "DBSCAN is particulary useful for finding clusters in lasrge spatial datasets and can handle noise and outliers in the data. It is also able to find clusters of arbitrary shape,making it a versatile and popular clustering method."
   ]
  },
  {
   "cell_type": "code",
   "execution_count": null,
   "id": "d6e36670-107f-4f5b-a8ef-919cf91c4fd3",
   "metadata": {},
   "outputs": [],
   "source": []
  },
  {
   "cell_type": "code",
   "execution_count": null,
   "id": "ec791d84-abb3-40bf-9db0-3ac23cefdf36",
   "metadata": {},
   "outputs": [],
   "source": []
  },
  {
   "cell_type": "markdown",
   "id": "9355526b-cae4-4f86-8f06-a81cd22f806d",
   "metadata": {},
   "source": [
    "Q4. How does the epsilon parameter affect the performance of DBSCAN in detecting anomalies?"
   ]
  },
  {
   "cell_type": "markdown",
   "id": "d10e63ee-13ba-4164-867e-273c42df7519",
   "metadata": {},
   "source": [
    "Solution :"
   ]
  },
  {
   "cell_type": "markdown",
   "id": "ee9ae8b2-5be3-498c-98b1-2b069db08c3b",
   "metadata": {},
   "source": [
    "The epsilon parameter in DBSCAN is the radius of the circle to be created around each data point to check the density. It affects the performance of DBSCAN in detecting anomalies by determining the density threshold for a cluster. If the value of epsilon is too small, then the algorithm may not be able to detect clusters and may classify many points as noise. On the other hand, if the value of epsilon is too large, then clusters may merge, and most objects will be in the same cluster. Therefore, choosing an appropriate value for epsilon is crucial for the performance of DBSCAN in detecting anomalies."
   ]
  },
  {
   "cell_type": "code",
   "execution_count": null,
   "id": "40cf1c5b-7b82-4555-9080-13e70e7a469a",
   "metadata": {},
   "outputs": [],
   "source": []
  },
  {
   "cell_type": "code",
   "execution_count": null,
   "id": "4850b81f-be4e-47e5-8049-857188ce769d",
   "metadata": {},
   "outputs": [],
   "source": []
  },
  {
   "cell_type": "markdown",
   "id": "0fde7c1d-2180-456d-9315-8c7102f3b32f",
   "metadata": {},
   "source": [
    "Q5. What are the differences between the core, border, and noise points in DBSCAN, and how do they relate\n",
    "to anomaly detection?"
   ]
  },
  {
   "cell_type": "markdown",
   "id": "66b17fb9-8759-4698-828a-081f36b7f255",
   "metadata": {},
   "source": [
    "Solution :"
   ]
  },
  {
   "cell_type": "markdown",
   "id": "800674c3-eb18-4428-8b7e-845dfa863cb2",
   "metadata": {},
   "source": [
    "In the DBSCAN algorithm, there are three types of points: core points, border points, and noise points.\n",
    "\n",
    "* Core points are points that have at least a minimum number of other points (MinPts) within a given radius (epsilon) of them. These points are considered to be in the interior of a cluster.\n",
    "\n",
    "* Border points are points that have fewer than MinPts within epsilon, but are still within the neighborhood of a core point. These points are considered to be on the edge of a cluster.\n",
    "\n",
    "* Noise points are points that are not core points or border points. These points are considered outliers and do not belong to any cluster.\n",
    "\n",
    "In terms of anomaly detection, noise points can be considered as anomalies because they do not belong to any cluster and are far from the dense regions of the data. Core and border points, on the other hand, belong to clusters and are not considered anomalies."
   ]
  },
  {
   "cell_type": "code",
   "execution_count": null,
   "id": "b037f2b1-fb3c-4b91-8bca-614f18ec5c9c",
   "metadata": {},
   "outputs": [],
   "source": []
  },
  {
   "cell_type": "code",
   "execution_count": null,
   "id": "bca4c1e1-475d-425f-ad92-39f55a8d76b7",
   "metadata": {},
   "outputs": [],
   "source": []
  },
  {
   "cell_type": "markdown",
   "id": "7e6431e8-4fad-4241-8b1b-a5e2b71eb57e",
   "metadata": {},
   "source": [
    "Q6. How does DBSCAN detect anomalies and what are the key parameters involved in the process?"
   ]
  },
  {
   "cell_type": "markdown",
   "id": "904aa12a-db92-4d6c-b382-e14ec99aa7bf",
   "metadata": {},
   "source": [
    "Solution :"
   ]
  },
  {
   "cell_type": "markdown",
   "id": "7c2225bb-3282-430d-8a6b-095d2b5bc7a2",
   "metadata": {},
   "source": [
    "DBSCAN (Density-Based Spatial Clustering of Applications with Noise) is a density-based clustering algorithm that can be used to detect anomalies in data. The algorithm works by grouping the 'densely grrouped' points into a single cluster and the points that are far away from the dense region are marked as outliers.\n",
    "\n",
    "The key parameters involved in the process are eps(epsilon) and minPts(the minimum number of points required to form a dense region. Epsilon is the radius of the circle created for each data point to check the density , and minPts is the minimum number of points required inside that circle for the data point to be considered as a core point.\n",
    "\n",
    "These parameters determine which points are core points ,border points and outliers."
   ]
  },
  {
   "cell_type": "code",
   "execution_count": null,
   "id": "5cfa9684-34b8-4930-a44c-c716e0e3c46b",
   "metadata": {},
   "outputs": [],
   "source": []
  },
  {
   "cell_type": "code",
   "execution_count": null,
   "id": "d5859e29-56fe-4c4a-b9cc-5d287f755e08",
   "metadata": {},
   "outputs": [],
   "source": []
  },
  {
   "cell_type": "markdown",
   "id": "ab57c86b-dd2a-4b95-91be-6e4c2f2a4b6c",
   "metadata": {},
   "source": [
    "Q7. What is the make_circles package in scikit-learn used for?"
   ]
  },
  {
   "cell_type": "markdown",
   "id": "6603d8a2-8198-4550-88be-be0a3799dc6c",
   "metadata": {},
   "source": [
    "Solution :"
   ]
  },
  {
   "cell_type": "markdown",
   "id": "937e877e-d000-4b24-86bd-f4e481626611",
   "metadata": {},
   "source": [
    "make_circles is a function in the sklearn.datasets module of the scikit-learn library. It is used to generate a simple toy dataset of two concentric circles in 2D, which can be used to visualize clustering and classification algorithms. The function takes several parameters, including the number of samples to generate, whether to shuffle the samples, the standard deviation of Gaussian noise to add to the data, and the scale factor between the inner and outer circles. The function returns an array of generated samples and an array of integer labels indicating the class membership of each sample."
   ]
  },
  {
   "cell_type": "code",
   "execution_count": null,
   "id": "1f324bdb-520a-4d88-9e06-ba9bfb71090c",
   "metadata": {},
   "outputs": [],
   "source": []
  },
  {
   "cell_type": "code",
   "execution_count": null,
   "id": "86637a47-c150-4ce0-9354-feeb564c9574",
   "metadata": {},
   "outputs": [],
   "source": []
  },
  {
   "cell_type": "markdown",
   "id": "d9f84d93-a840-42ea-a1ba-3209a3edab41",
   "metadata": {},
   "source": [
    "Q8. What are local outliers and global outliers, and how do they differ from each other?"
   ]
  },
  {
   "cell_type": "markdown",
   "id": "e24718d1-c637-45b6-a182-3ace4b89fe55",
   "metadata": {},
   "source": [
    "Solution :"
   ]
  },
  {
   "cell_type": "markdown",
   "id": "a3ec5eff-e343-4588-841b-5def89df9d7e",
   "metadata": {},
   "source": [
    "Local outliers and global outliers are two types of outliers that can be found in data.\n",
    "\n",
    "* Global outliers are data points that deviate significantly from the overall distribution of a dataset. They are considered outliers when compared to the entire dataset, regardless of any contextual information. Global outliers can be caused by errors in data collection, measurement errors, or truly unusual events. They can distort data analysis results and affect machine learning model performance.\n",
    "\n",
    "* Local outliers, on the other hand, are data points that deviate significantly from their local neighborhood. They may not be considered outliers when compared to the entire dataset, but they exhibit unusual behavior within a specific context or subgroup. Local outliers can provide additional insights into the data and may require special attention or further investigation.\n",
    "\n",
    "* The main difference between local and global outliers is the level of granularity or detail in their analysis methodology. Global outlier detection considers the entire dataset, while local outlier detection focuses on the behavior of data points within their local neighborhood."
   ]
  },
  {
   "cell_type": "code",
   "execution_count": null,
   "id": "edeb3214-a87f-4402-95c0-95d6d1d5323b",
   "metadata": {},
   "outputs": [],
   "source": []
  },
  {
   "cell_type": "code",
   "execution_count": null,
   "id": "4ea8afd1-6941-43e1-84ba-a646afb84acf",
   "metadata": {},
   "outputs": [],
   "source": []
  },
  {
   "cell_type": "markdown",
   "id": "5c67130b-ac22-4734-af3c-656eb925edd4",
   "metadata": {},
   "source": [
    "Q9. How can local outliers be detected using the Local Outlier Factor (LOF) algorithm?"
   ]
  },
  {
   "cell_type": "markdown",
   "id": "80cff55e-55f7-468d-a05d-17df2dbdcf65",
   "metadata": {},
   "source": [
    "Solution :"
   ]
  },
  {
   "cell_type": "markdown",
   "id": "dc113a6d-207c-4291-a4fa-55cba4ad9afc",
   "metadata": {},
   "source": [
    "The Local Outlier Factor (LOF) algorithm is an unsupervised anomaly detection method that can be used to detect local outliers in data. The algorithm works by computing the local density deviation of a given data point with respect to its neighbors. It considers as outliers the samples that have a substantially lower density than their neighbors.\n",
    "\n",
    "The key parameters involved in the LOF algorithm are the number of neighbors to consider (k) and the contamination parameter, which is the proportion of outliers expected in the data. The algorithm calculates the reachability distance and local reachability density for each data point, and then computes the LOF score for each point by comparing its local reachability density to that of its k-nearest neighbors. Points with high LOF scores are considered to be local outliers."
   ]
  },
  {
   "cell_type": "code",
   "execution_count": null,
   "id": "6f943463-5037-41a5-a87e-61428be095ed",
   "metadata": {},
   "outputs": [],
   "source": []
  },
  {
   "cell_type": "code",
   "execution_count": null,
   "id": "80f9ae61-49da-475a-8d57-9306a20ba4c5",
   "metadata": {},
   "outputs": [],
   "source": []
  },
  {
   "cell_type": "markdown",
   "id": "6ed6af62-f470-4c18-a539-ef5d090c70c9",
   "metadata": {},
   "source": [
    "Q10. How can global outliers be detected using the Isolation Forest algorithm?"
   ]
  },
  {
   "cell_type": "markdown",
   "id": "8855b299-ad72-4d9c-83f9-adff3474bf03",
   "metadata": {},
   "source": [
    "Solution:"
   ]
  },
  {
   "cell_type": "markdown",
   "id": "b7fdbd66-fbe2-4b58-8986-da40ca14d1d6",
   "metadata": {},
   "source": [
    "The Isolation Forest algorithm is an unsupervised anomaly detection method that can be used to detect global outliers in data. The algorithm works by building an ensemble of binary trees that recursively partition the data by randomly selecting a feature and then randomly selecting a split value for that feature. The partitioning process continues until all data points are separated from the rest of the samples.\n",
    "\n",
    "The key idea behind the Isolation Forest algorithm is that outliers are more likely to be isolated from the rest of the data because they are located in low-density regions. Therefore, the algorithm assigns an anomaly score to each data point based on the average depth of the tree at which it is isolated. Points with high anomaly scores are considered to be global outliers.\n",
    "\n",
    "In summary, the Isolation Forest algorithm can be used to detect global outliers by building an ensemble of binary trees that recursively partition the data and assigning an anomaly score to each data point based on its isolation depth. Points with high anomaly scores are considered to be global outliers."
   ]
  },
  {
   "cell_type": "code",
   "execution_count": null,
   "id": "c4187438-5e0d-4f3d-a0e8-fc6b7711d1b4",
   "metadata": {},
   "outputs": [],
   "source": []
  },
  {
   "cell_type": "code",
   "execution_count": null,
   "id": "3d40f3ff-e91e-42e1-9109-051f066da49d",
   "metadata": {},
   "outputs": [],
   "source": []
  },
  {
   "cell_type": "markdown",
   "id": "2c6e2581-eded-4d21-8068-cc9b3726b129",
   "metadata": {},
   "source": [
    "Q11. What are some real-world applications where local outlier detection is more appropriate than global\n",
    "outlier detection, and vice versa?"
   ]
  },
  {
   "cell_type": "markdown",
   "id": "b4e4fcc4-418d-4d5f-b7c6-319a37afb69e",
   "metadata": {},
   "source": [
    "Solution:"
   ]
  },
  {
   "cell_type": "markdown",
   "id": "15fd844a-41f1-4f01-bcfc-a0f59a6765a1",
   "metadata": {},
   "source": [
    "Local outlier detection is more appropriate than global outlier detection in situations where the data has a complex structure, with multiple clusters or subgroups, and the goal is to identify outliers within each cluster or subgroup. For example, local outlier detection can be useful in detecting fraud in financial transactions, where normal behavior may vary between different groups of customers. By identifying local outliers, it is possible to detect unusual transactions within each group, even if they would not be considered outliers when compared to the entire dataset.\n",
    "\n",
    "On the other hand, global outlier detection is more appropriate in situations where the data has a simple structure and the goal is to identify outliers that deviate significantly from the overall distribution of the data. For example, global outlier detection can be useful in detecting errors in data entry or measurement, where the goal is to identify values that are outside the expected range for the entire dataset.\n",
    "\n",
    "In summary, local outlier detection is more appropriate when the goal is to identify outliers within specific clusters or subgroups of the data, while global outlier detection is more appropriate when the goal is to identify outliers that deviate significantly from the overall distribution of the data. "
   ]
  },
  {
   "cell_type": "code",
   "execution_count": null,
   "id": "5168a2b0-20a0-4251-9df5-8fb5768585ca",
   "metadata": {},
   "outputs": [],
   "source": []
  },
  {
   "cell_type": "code",
   "execution_count": null,
   "id": "535c26f5-3b61-469f-8a28-4961ca7d57d3",
   "metadata": {},
   "outputs": [],
   "source": []
  }
 ],
 "metadata": {
  "kernelspec": {
   "display_name": "Python 3 (ipykernel)",
   "language": "python",
   "name": "python3"
  },
  "language_info": {
   "codemirror_mode": {
    "name": "ipython",
    "version": 3
   },
   "file_extension": ".py",
   "mimetype": "text/x-python",
   "name": "python",
   "nbconvert_exporter": "python",
   "pygments_lexer": "ipython3",
   "version": "3.10.8"
  }
 },
 "nbformat": 4,
 "nbformat_minor": 5
}
