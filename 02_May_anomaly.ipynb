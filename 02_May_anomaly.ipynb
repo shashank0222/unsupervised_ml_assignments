{
 "cells": [
  {
   "cell_type": "markdown",
   "id": "dbd74133-e74e-406e-ad1b-657ddf9efcf0",
   "metadata": {},
   "source": [
    "Q1. What is anomaly detection and what is its purpose?"
   ]
  },
  {
   "cell_type": "markdown",
   "id": "136a4c89-e6fe-4c1c-931d-dee59cc1c9eb",
   "metadata": {},
   "source": [
    "Solution :"
   ]
  },
  {
   "cell_type": "markdown",
   "id": "1d316b67-f367-41ff-b513-673a4da20be0",
   "metadata": {},
   "source": [
    "Anomaly detection is a process in machine learning that identifies data points, events, and observations that deviate from a data set’s normal behavior. It is critical to address for industrial applications as detecting anomalies from time series data is a pain point. Anomaly detection is used to minimize risk factors, improve communication, and enable real-time anomaly monitoring. Companies use anomalous activity detection to define system baselines, identify deviations from that baseline, and investigate inconsistent data. There are three types of anomaly detection use cases depending on the type of data available: supervised anomaly detection, unsupervised anomaly detection, and semi-supervised anomaly detection."
   ]
  },
  {
   "cell_type": "code",
   "execution_count": null,
   "id": "b7f24d2d-ced4-40e7-9c02-4cf623cbe6c5",
   "metadata": {},
   "outputs": [],
   "source": []
  },
  {
   "cell_type": "code",
   "execution_count": null,
   "id": "ebdeae4a-6b57-447b-b379-0781cdeb08b9",
   "metadata": {},
   "outputs": [],
   "source": []
  },
  {
   "cell_type": "markdown",
   "id": "7df2a211-5c62-42e7-b768-cb6477d53f2e",
   "metadata": {},
   "source": [
    "Q2. What are the key challenges in anomaly detection?"
   ]
  },
  {
   "cell_type": "markdown",
   "id": "86c589c9-5a9e-4443-ad7f-702b08ad6979",
   "metadata": {},
   "source": [
    "Solution :"
   ]
  },
  {
   "cell_type": "markdown",
   "id": "79847336-86a1-4db6-b3e4-bca3e44ef0f9",
   "metadata": {},
   "source": [
    "There are several challenges in anomaly detection. One of the primary challenges of anomaly detection in time series is dealing with high-dimensional and complex data. Other challenges include appropriate feature extraction, defining normal behaviors, handling imbalanced distribution of normal and abnormal data, addressing the variations in abnormal behavior, sparse occurrence of abnormal events, environmental variations, camera movements, etc."
   ]
  },
  {
   "cell_type": "code",
   "execution_count": null,
   "id": "e8a8b89e-a622-4799-ad7b-9ade1342135c",
   "metadata": {},
   "outputs": [],
   "source": []
  },
  {
   "cell_type": "code",
   "execution_count": null,
   "id": "796fdf82-47d3-4a1e-9cdf-3d0afb344411",
   "metadata": {},
   "outputs": [],
   "source": []
  },
  {
   "cell_type": "markdown",
   "id": "d2f333fa-9d29-4f4d-ae1b-a0537f2b709d",
   "metadata": {},
   "source": [
    "Q3. How does unsupervised anomaly detection differ from supervised anomaly detection?"
   ]
  },
  {
   "cell_type": "markdown",
   "id": "51b2f446-ab7d-4d92-a7c8-7a06e510adc4",
   "metadata": {},
   "source": [
    "Solution :"
   ]
  },
  {
   "cell_type": "markdown",
   "id": "708ea08a-035b-4bc0-8a50-212534706f47",
   "metadata": {},
   "source": [
    "Supervised anomaly detection requires labeled training data where for each row you know if it is an outlier/anomaly or not. Any modeling technique for binary responses will work here, e.g. logistic regression or gradient boosting. The typical application is fraud detection. Unsupervised anomaly detection is when we have a “reference” training data at hand but unfortunately without knowing which rows are outliers or not. Here, it is tempting to let statistical algorithms do the guesswork. Some of the typical approaches are density-based, distance-based, autoencoder, and model-based."
   ]
  },
  {
   "cell_type": "code",
   "execution_count": null,
   "id": "e52a1dc2-9b35-4cd4-9996-3da82ff7e765",
   "metadata": {},
   "outputs": [],
   "source": []
  },
  {
   "cell_type": "code",
   "execution_count": null,
   "id": "4d393118-eda9-4aa2-8e01-92c683ca3a3d",
   "metadata": {},
   "outputs": [],
   "source": []
  },
  {
   "cell_type": "markdown",
   "id": "73df4407-ed07-403b-91f3-ad7875f0f483",
   "metadata": {},
   "source": [
    "Q4. What are the main categories of anomaly detection algorithms?"
   ]
  },
  {
   "cell_type": "markdown",
   "id": "0b0e8e1b-a3fc-4e6e-9320-ade2a8b3e2f9",
   "metadata": {},
   "source": [
    "Solution :"
   ]
  },
  {
   "cell_type": "markdown",
   "id": "66eb9861-7a01-49a1-9695-08fbf765c42e",
   "metadata": {},
   "source": [
    "The main categories of anomaly detection algorithms are supervised anomaly detection, unsupervised anomaly detection, and semi-supervised anomaly detection."
   ]
  },
  {
   "cell_type": "code",
   "execution_count": null,
   "id": "9652151e-8de6-46cb-a5fc-da886edbd9bc",
   "metadata": {},
   "outputs": [],
   "source": []
  },
  {
   "cell_type": "code",
   "execution_count": null,
   "id": "8f4406cd-1e0d-47b9-ab29-4e7b1d0c2118",
   "metadata": {},
   "outputs": [],
   "source": []
  },
  {
   "cell_type": "markdown",
   "id": "58651163-bd63-432c-b8bb-bdf9acc9040e",
   "metadata": {},
   "source": [
    "Q5. What are the main assumptions made by distance-based anomaly detection methods?"
   ]
  },
  {
   "cell_type": "markdown",
   "id": "7d75eb43-0707-4ef9-be15-cb68f56e3aa9",
   "metadata": {},
   "source": [
    "Solution :"
   ]
  },
  {
   "cell_type": "markdown",
   "id": "3306d28e-83e1-4cfc-bc77-787788e6fdde",
   "metadata": {},
   "source": [
    "Distance-based anomaly detection methods assume that normal data points occur around a dense neighborhood and abnormalities are far away from the dense neighborhood."
   ]
  },
  {
   "cell_type": "code",
   "execution_count": null,
   "id": "7844d490-ac68-400f-9dad-87f005b1de4d",
   "metadata": {},
   "outputs": [],
   "source": []
  },
  {
   "cell_type": "code",
   "execution_count": null,
   "id": "80346d00-85f1-4b35-a8ec-e14240497678",
   "metadata": {},
   "outputs": [],
   "source": []
  },
  {
   "cell_type": "markdown",
   "id": "223585db-3420-4784-a57d-d89452bde8df",
   "metadata": {},
   "source": [
    "Q6. How does the LOF algorithm compute anomaly scores?"
   ]
  },
  {
   "cell_type": "markdown",
   "id": "d32b66ec-c83c-45be-879c-4c9fef34f561",
   "metadata": {},
   "source": [
    "Solution :"
   ]
  },
  {
   "cell_type": "markdown",
   "id": "1cbbada2-3fa5-4245-994a-d69b4b4d8fe2",
   "metadata": {},
   "source": [
    "The LOF algorithm computes anomaly scores by comparing the local reachability density of an object with the local reachability densities of its k-nearest neighbors.\n",
    "\n"
   ]
  },
  {
   "cell_type": "code",
   "execution_count": null,
   "id": "2adc5b1a-b8ef-4483-b8b4-ef8679281453",
   "metadata": {},
   "outputs": [],
   "source": []
  },
  {
   "cell_type": "code",
   "execution_count": null,
   "id": "101f082e-43c2-4322-b96b-677c65cf20cb",
   "metadata": {},
   "outputs": [],
   "source": []
  },
  {
   "cell_type": "markdown",
   "id": "1ac75cf0-e189-42c3-ab8a-55b915536773",
   "metadata": {},
   "source": [
    "Q7. What are the key parameters of the Isolation Forest algorithm?"
   ]
  },
  {
   "cell_type": "markdown",
   "id": "ee41cfac-4148-4ca4-98ef-e5460ebfbeef",
   "metadata": {},
   "source": [
    "Solution :"
   ]
  },
  {
   "cell_type": "markdown",
   "id": "79837e6c-5f31-406c-9c02-340bbe61ccc8",
   "metadata": {},
   "source": [
    "The key parameters of the Isolation Forest algorithm are the number of trees and the subsampling size."
   ]
  },
  {
   "cell_type": "code",
   "execution_count": null,
   "id": "46408f85-0a7e-4f54-9748-06762dc617c3",
   "metadata": {},
   "outputs": [],
   "source": []
  },
  {
   "cell_type": "code",
   "execution_count": null,
   "id": "9179406d-9c23-481e-8d58-cb01290de6d3",
   "metadata": {},
   "outputs": [],
   "source": []
  },
  {
   "cell_type": "markdown",
   "id": "0cd47373-bb0f-429a-9e48-7f95c0c39b0a",
   "metadata": {},
   "source": [
    "Q8. If a data point has only 2 neighbours of the same class within a radius of 0.5, what is its anomaly score\n",
    "using KNN with K=10?"
   ]
  },
  {
   "cell_type": "markdown",
   "id": "8cb9ca53-450a-4f53-8e31-dbcda2eddd65",
   "metadata": {},
   "source": [
    "Solution :"
   ]
  },
  {
   "cell_type": "markdown",
   "id": "d3caf036-232e-45df-8a02-66a2bcd4ce9c",
   "metadata": {},
   "source": [
    "The anomaly score of a data point using KNN with K=10 is not determined by the number of neighbors of the same class within a radius of 0.5. The anomaly score is determined by the distance between the data point and its k-th nearest neighbor."
   ]
  },
  {
   "cell_type": "code",
   "execution_count": null,
   "id": "cc962d2b-0a67-418a-88c5-62a7b74adc4a",
   "metadata": {},
   "outputs": [],
   "source": []
  },
  {
   "cell_type": "code",
   "execution_count": null,
   "id": "79b579d3-2dd6-47a3-ac15-800e14c8f7d7",
   "metadata": {},
   "outputs": [],
   "source": []
  },
  {
   "cell_type": "markdown",
   "id": "61e29d83-dcdb-4448-a2c5-6559c5c05a96",
   "metadata": {},
   "source": [
    "Q9. Using the Isolation Forest algorithm with 100 trees and a dataset of 3000 data points, what is the\n",
    "anomaly score for a data point that has an average path length of 5.0 compared to the average path\n",
    "length of the trees?"
   ]
  },
  {
   "cell_type": "markdown",
   "id": "6cd3c951-3671-4b67-b807-88b8ac494e08",
   "metadata": {},
   "source": [
    "Solution :"
   ]
  },
  {
   "cell_type": "markdown",
   "id": "0055966e-7117-4dc1-bc06-28835d72487d",
   "metadata": {},
   "source": [
    "The anomaly score for a data point using the Isolation Forest algorithm with 100 trees and a dataset of 3000 data points is not determined by the average path length of the data point compared to the average path length of the trees."
   ]
  },
  {
   "cell_type": "code",
   "execution_count": null,
   "id": "b12d1017-fd74-4e01-8a76-808726ec074d",
   "metadata": {},
   "outputs": [],
   "source": []
  }
 ],
 "metadata": {
  "kernelspec": {
   "display_name": "Python 3 (ipykernel)",
   "language": "python",
   "name": "python3"
  },
  "language_info": {
   "codemirror_mode": {
    "name": "ipython",
    "version": 3
   },
   "file_extension": ".py",
   "mimetype": "text/x-python",
   "name": "python",
   "nbconvert_exporter": "python",
   "pygments_lexer": "ipython3",
   "version": "3.10.8"
  }
 },
 "nbformat": 4,
 "nbformat_minor": 5
}
